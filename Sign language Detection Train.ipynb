{
 "cells": [
  {
   "cell_type": "code",
   "execution_count": 1,
   "id": "66f79287",
   "metadata": {},
   "outputs": [
    {
     "name": "stdout",
     "output_type": "stream",
     "text": [
      "Found 12000 images belonging to 6 classes.\n",
      "Found 6000 images belonging to 6 classes.\n",
      "['A', 'B', 'C', 'del', 'nothing', 'space']\n",
      "Model: \"sequential\"\n",
      "_________________________________________________________________\n",
      " Layer (type)                Output Shape              Param #   \n",
      "=================================================================\n",
      " conv2d (Conv2D)             (None, 62, 62, 128)       1280      \n",
      "                                                                 \n",
      " max_pooling2d (MaxPooling2D  (None, 31, 31, 128)      0         \n",
      " )                                                               \n",
      "                                                                 \n",
      " dropout (Dropout)           (None, 31, 31, 128)       0         \n",
      "                                                                 \n",
      " conv2d_1 (Conv2D)           (None, 29, 29, 256)       295168    \n",
      "                                                                 \n",
      " max_pooling2d_1 (MaxPooling  (None, 14, 14, 256)      0         \n",
      " 2D)                                                             \n",
      "                                                                 \n",
      " dropout_1 (Dropout)         (None, 14, 14, 256)       0         \n",
      "                                                                 \n",
      " conv2d_2 (Conv2D)           (None, 12, 12, 512)       1180160   \n",
      "                                                                 \n",
      " max_pooling2d_2 (MaxPooling  (None, 6, 6, 512)        0         \n",
      " 2D)                                                             \n",
      "                                                                 \n",
      " dropout_2 (Dropout)         (None, 6, 6, 512)         0         \n",
      "                                                                 \n",
      " conv2d_3 (Conv2D)           (None, 4, 4, 512)         2359808   \n",
      "                                                                 \n",
      " max_pooling2d_3 (MaxPooling  (None, 2, 2, 512)        0         \n",
      " 2D)                                                             \n",
      "                                                                 \n",
      " dropout_3 (Dropout)         (None, 2, 2, 512)         0         \n",
      "                                                                 \n",
      " flatten (Flatten)           (None, 2048)              0         \n",
      "                                                                 \n",
      " dense (Dense)               (None, 512)               1049088   \n",
      "                                                                 \n",
      " dropout_4 (Dropout)         (None, 512)               0         \n",
      "                                                                 \n",
      " dense_1 (Dense)             (None, 64)                32832     \n",
      "                                                                 \n",
      " dropout_5 (Dropout)         (None, 64)                0         \n",
      "                                                                 \n",
      " dense_2 (Dense)             (None, 256)               16640     \n",
      "                                                                 \n",
      " dropout_6 (Dropout)         (None, 256)               0         \n",
      "                                                                 \n",
      " dense_3 (Dense)             (None, 64)                16448     \n",
      "                                                                 \n",
      " dropout_7 (Dropout)         (None, 64)                0         \n",
      "                                                                 \n",
      " dense_4 (Dense)             (None, 256)               16640     \n",
      "                                                                 \n",
      " dropout_8 (Dropout)         (None, 256)               0         \n",
      "                                                                 \n",
      " dense_5 (Dense)             (None, 6)                 1542      \n",
      "                                                                 \n",
      "=================================================================\n",
      "Total params: 4,969,606\n",
      "Trainable params: 4,969,606\n",
      "Non-trainable params: 0\n",
      "_________________________________________________________________\n",
      "None\n"
     ]
    }
   ],
   "source": [
    "from keras.utils import to_categorical\n",
    "from keras.models import Sequential\n",
    "from keras.layers import Dense, Conv2D, Dropout, Flatten, MaxPooling2D\n",
    "from keras.preprocessing.image import ImageDataGenerator\n",
    "from keras.callbacks import TensorBoard\n",
    "import os\n",
    "\n",
    "# Data augmentation and rescaling\n",
    "train_datagen = ImageDataGenerator(\n",
    "    rescale=1./255,\n",
    ")\n",
    "\n",
    "val_datagen = ImageDataGenerator(rescale=1./255)\n",
    "\n",
    "batch_size = 128\n",
    "\n",
    "# Training data generator for 64x64 grayscale images\n",
    "train_generator = train_datagen.flow_from_directory(\n",
    "    'data2/train',  # Update the directory if necessary\n",
    "    target_size=(64, 64),  # Adjusted for 64x64 images\n",
    "    batch_size=batch_size,\n",
    "    class_mode='categorical',\n",
    "    color_mode='grayscale'\n",
    ")\n",
    "\n",
    "# Validation data generator for 64x64 grayscale images\n",
    "validation_generator = val_datagen.flow_from_directory(\n",
    "    'data2/test',  # Update the directory if necessary\n",
    "    target_size=(64, 64),  # Adjusted for 64x64 images\n",
    "    batch_size=batch_size,\n",
    "    class_mode='categorical',\n",
    "    color_mode='grayscale'\n",
    ")\n",
    "\n",
    "class_names = list(train_generator.class_indices.keys())\n",
    "print(class_names)\n",
    "\n",
    "# Model definition\n",
    "model = Sequential()\n",
    "# Convolutional layers\n",
    "model.add(Conv2D(128, kernel_size=(3,3), activation='relu', input_shape=(64, 64, 1)))  # Adjusted for 64x64 input\n",
    "model.add(MaxPooling2D(pool_size=(2,2)))\n",
    "model.add(Dropout(0.4))\n",
    "\n",
    "model.add(Conv2D(256, kernel_size=(3,3), activation='relu'))\n",
    "model.add(MaxPooling2D(pool_size=(2,2)))\n",
    "model.add(Dropout(0.4))\n",
    "\n",
    "model.add(Conv2D(512, kernel_size=(3,3), activation='relu'))\n",
    "model.add(MaxPooling2D(pool_size=(2,2)))\n",
    "model.add(Dropout(0.4))\n",
    "\n",
    "model.add(Conv2D(512, kernel_size=(3,3), activation='relu'))\n",
    "model.add(MaxPooling2D(pool_size=(2,2)))\n",
    "model.add(Dropout(0.4))\n",
    "\n",
    "model.add(Flatten())\n",
    "# Fully connected layers\n",
    "model.add(Dense(512, activation='relu'))\n",
    "model.add(Dropout(0.4))\n",
    "model.add(Dense(64, activation='relu'))\n",
    "model.add(Dropout(0.2))\n",
    "model.add(Dense(256, activation='relu'))\n",
    "model.add(Dropout(0.3))\n",
    "model.add(Dense(64, activation='relu'))\n",
    "model.add(Dropout(0.2))\n",
    "model.add(Dense(256, activation='relu'))\n",
    "model.add(Dropout(0.3))\n",
    "\n",
    "# Output layer for 6 classes\n",
    "model.add(Dense(6, activation='softmax'))\n",
    "\n",
    "print(model.summary())"
   ]
  },
  {
   "cell_type": "code",
   "execution_count": 2,
   "id": "ee6f6664",
   "metadata": {},
   "outputs": [
    {
     "name": "stdout",
     "output_type": "stream",
     "text": [
      "Model: \"sequential\"\n",
      "_________________________________________________________________\n",
      " Layer (type)                Output Shape              Param #   \n",
      "=================================================================\n",
      " conv2d (Conv2D)             (None, 62, 62, 128)       1280      \n",
      "                                                                 \n",
      " max_pooling2d (MaxPooling2D  (None, 31, 31, 128)      0         \n",
      " )                                                               \n",
      "                                                                 \n",
      " dropout (Dropout)           (None, 31, 31, 128)       0         \n",
      "                                                                 \n",
      " conv2d_1 (Conv2D)           (None, 29, 29, 256)       295168    \n",
      "                                                                 \n",
      " max_pooling2d_1 (MaxPooling  (None, 14, 14, 256)      0         \n",
      " 2D)                                                             \n",
      "                                                                 \n",
      " dropout_1 (Dropout)         (None, 14, 14, 256)       0         \n",
      "                                                                 \n",
      " conv2d_2 (Conv2D)           (None, 12, 12, 512)       1180160   \n",
      "                                                                 \n",
      " max_pooling2d_2 (MaxPooling  (None, 6, 6, 512)        0         \n",
      " 2D)                                                             \n",
      "                                                                 \n",
      " dropout_2 (Dropout)         (None, 6, 6, 512)         0         \n",
      "                                                                 \n",
      " conv2d_3 (Conv2D)           (None, 4, 4, 512)         2359808   \n",
      "                                                                 \n",
      " max_pooling2d_3 (MaxPooling  (None, 2, 2, 512)        0         \n",
      " 2D)                                                             \n",
      "                                                                 \n",
      " dropout_3 (Dropout)         (None, 2, 2, 512)         0         \n",
      "                                                                 \n",
      " flatten (Flatten)           (None, 2048)              0         \n",
      "                                                                 \n",
      " dense (Dense)               (None, 512)               1049088   \n",
      "                                                                 \n",
      " dropout_4 (Dropout)         (None, 512)               0         \n",
      "                                                                 \n",
      " dense_1 (Dense)             (None, 64)                32832     \n",
      "                                                                 \n",
      " dropout_5 (Dropout)         (None, 64)                0         \n",
      "                                                                 \n",
      " dense_2 (Dense)             (None, 256)               16640     \n",
      "                                                                 \n",
      " dropout_6 (Dropout)         (None, 256)               0         \n",
      "                                                                 \n",
      " dense_3 (Dense)             (None, 64)                16448     \n",
      "                                                                 \n",
      " dropout_7 (Dropout)         (None, 64)                0         \n",
      "                                                                 \n",
      " dense_4 (Dense)             (None, 256)               16640     \n",
      "                                                                 \n",
      " dropout_8 (Dropout)         (None, 256)               0         \n",
      "                                                                 \n",
      " dense_5 (Dense)             (None, 6)                 1542      \n",
      "                                                                 \n",
      "=================================================================\n",
      "Total params: 4,969,606\n",
      "Trainable params: 4,969,606\n",
      "Non-trainable params: 0\n",
      "_________________________________________________________________\n"
     ]
    }
   ],
   "source": [
    "model.summary()"
   ]
  },
  {
   "cell_type": "code",
   "execution_count": 3,
   "id": "6e578b95",
   "metadata": {},
   "outputs": [],
   "source": [
    "model.compile(optimizer = 'adam', loss = 'categorical_crossentropy', metrics = 'accuracy' )"
   ]
  },
  {
   "cell_type": "code",
   "execution_count": 4,
   "id": "f3992d36",
   "metadata": {},
   "outputs": [
    {
     "name": "stderr",
     "output_type": "stream",
     "text": [
      "'rm' is not recognized as an internal or external command,\n",
      "operable program or batch file.\n"
     ]
    }
   ],
   "source": [
    "!rm -rf Logs\n",
    "logdir = os.path.join(\"Logs\")\n",
    "tensorboard_callback = TensorBoard(log_dir=logdir)"
   ]
  },
  {
   "cell_type": "code",
   "execution_count": 5,
   "id": "a9388cf6",
   "metadata": {},
   "outputs": [
    {
     "name": "stdout",
     "output_type": "stream",
     "text": [
      "Epoch 1/15\n",
      "93/93 [==============================] - 383s 4s/step - loss: 1.7201 - accuracy: 0.2186 - val_loss: 1.4629 - val_accuracy: 0.3404\n",
      "Epoch 2/15\n",
      "93/93 [==============================] - 267s 3s/step - loss: 1.1757 - accuracy: 0.4569 - val_loss: 0.6033 - val_accuracy: 0.7352\n",
      "Epoch 3/15\n",
      "93/93 [==============================] - 271s 3s/step - loss: 0.5144 - accuracy: 0.7281 - val_loss: 0.3417 - val_accuracy: 0.8018\n",
      "Epoch 4/15\n",
      "93/93 [==============================] - 250s 3s/step - loss: 0.3593 - accuracy: 0.8133 - val_loss: 0.1829 - val_accuracy: 0.9341\n",
      "Epoch 5/15\n",
      "93/93 [==============================] - 250s 3s/step - loss: 0.1731 - accuracy: 0.9352 - val_loss: 0.0451 - val_accuracy: 0.9861\n",
      "Epoch 6/15\n",
      "93/93 [==============================] - 249s 3s/step - loss: 0.0832 - accuracy: 0.9744 - val_loss: 0.0273 - val_accuracy: 0.9903\n",
      "Epoch 7/15\n",
      "93/93 [==============================] - 249s 3s/step - loss: 0.0846 - accuracy: 0.9761 - val_loss: 0.0223 - val_accuracy: 0.9918\n",
      "Epoch 8/15\n",
      "93/93 [==============================] - 249s 3s/step - loss: 0.0502 - accuracy: 0.9856 - val_loss: 0.0084 - val_accuracy: 0.9973\n",
      "Epoch 9/15\n",
      "93/93 [==============================] - 241s 3s/step - loss: 0.0330 - accuracy: 0.9895 - val_loss: 0.0057 - val_accuracy: 0.9985\n",
      "Epoch 10/15\n",
      "93/93 [==============================] - 238s 3s/step - loss: 0.0580 - accuracy: 0.9861 - val_loss: 0.0820 - val_accuracy: 0.9742\n",
      "Epoch 11/15\n",
      "93/93 [==============================] - 249s 3s/step - loss: 0.0401 - accuracy: 0.9889 - val_loss: 0.0165 - val_accuracy: 0.9964\n",
      "Epoch 12/15\n",
      "93/93 [==============================] - 240s 3s/step - loss: 0.0318 - accuracy: 0.9932 - val_loss: 0.0041 - val_accuracy: 0.9988\n",
      "Epoch 13/15\n",
      "93/93 [==============================] - 242s 3s/step - loss: 0.0123 - accuracy: 0.9965 - val_loss: 9.6027e-04 - val_accuracy: 0.9998\n",
      "Epoch 14/15\n",
      "93/93 [==============================] - 238s 3s/step - loss: 0.0152 - accuracy: 0.9955 - val_loss: 6.7673e-04 - val_accuracy: 0.9998\n",
      "Epoch 15/15\n",
      "93/93 [==============================] - 239s 3s/step - loss: 0.0221 - accuracy: 0.9944 - val_loss: 0.0018 - val_accuracy: 0.9997\n"
     ]
    },
    {
     "data": {
      "text/plain": [
       "<keras.callbacks.History at 0x20612a2a6c8>"
      ]
     },
     "execution_count": 5,
     "metadata": {},
     "output_type": "execute_result"
    }
   ],
   "source": [
    "model.fit(\n",
    "    train_generator,\n",
    "    steps_per_epoch=train_generator.samples // batch_size,\n",
    "    epochs=15,\n",
    "    validation_data=validation_generator,\n",
    "    validation_steps=validation_generator.samples // batch_size,\n",
    "    callbacks=[tensorboard_callback]\n",
    ")"
   ]
  },
  {
   "cell_type": "code",
   "execution_count": 6,
   "id": "60eea4c9",
   "metadata": {},
   "outputs": [
    {
     "data": {
      "text/html": [
       "\n",
       "      <iframe id=\"tensorboard-frame-2f11d6fe79b0d7d7\" width=\"100%\" height=\"800\" frameborder=\"0\">\n",
       "      </iframe>\n",
       "      <script>\n",
       "        (function() {\n",
       "          const frame = document.getElementById(\"tensorboard-frame-2f11d6fe79b0d7d7\");\n",
       "          const url = new URL(\"/\", window.location);\n",
       "          const port = 6006;\n",
       "          if (port) {\n",
       "            url.port = port;\n",
       "          }\n",
       "          frame.src = url;\n",
       "        })();\n",
       "      </script>\n",
       "    "
      ],
      "text/plain": [
       "<IPython.core.display.HTML object>"
      ]
     },
     "metadata": {},
     "output_type": "display_data"
    }
   ],
   "source": [
    "%load_ext tensorboard\n",
    "%tensorboard --logdir Logs"
   ]
  },
  {
   "cell_type": "code",
   "execution_count": 7,
   "id": "f8b0b41d",
   "metadata": {},
   "outputs": [],
   "source": [
    "model_json = model.to_json()\n",
    "with open(\"signlanguagemodel.json\",'w') as json_file:\n",
    "    json_file.write(model_json)\n",
    "model.save(\"signlanguagemodel.h5\")"
   ]
  },
  {
   "cell_type": "markdown",
   "id": "24ce75bc",
   "metadata": {},
   "source": [
    "# Confusion matrix Visualization "
   ]
  },
  {
   "cell_type": "code",
   "execution_count": null,
   "id": "4344ecb5",
   "metadata": {},
   "outputs": [],
   "source": [
    "import numpy as np\n",
    "import matplotlib.pyplot as plt\n",
    "from sklearn.metrics import confusion_matrix, ConfusionMatrixDisplay\n",
    "from keras.preprocessing.image import ImageDataGenerator"
   ]
  },
  {
   "cell_type": "code",
   "execution_count": null,
   "id": "a8d46d2e",
   "metadata": {},
   "outputs": [],
   "source": [
    "pip install matplotlib\n"
   ]
  },
  {
   "cell_type": "markdown",
   "id": "42675779",
   "metadata": {},
   "source": [
    "# Confusion Matrix"
   ]
  },
  {
   "cell_type": "code",
   "execution_count": 21,
   "id": "7eb8c1cb",
   "metadata": {},
   "outputs": [
    {
     "name": "stdout",
     "output_type": "stream",
     "text": [
      "47/47 [==============================] - 20s 415ms/step\n"
     ]
    }
   ],
   "source": [
    "# Generate predictions\n",
    "Y_pred = model.predict(validation_generator)\n",
    "y_pred = np.argmax(Y_pred, axis=1)\n",
    "\n",
    "# Get true labels\n",
    "y_true = validation_generator.classes\n",
    "\n",
    "# Get class names\n",
    "class_names = list(validation_generator.class_indices.keys())\n",
    "\n",
    "# Compute confusion matrix\n",
    "cm = confusion_matrix(y_true, y_pred)"
   ]
  },
  {
   "cell_type": "code",
   "execution_count": 22,
   "id": "9024f9c4",
   "metadata": {},
   "outputs": [
    {
     "data": {
      "image/png": "[encoded data removed]",
      "text/plain": [
       "<Figure size 640x480 with 2 Axes>"
      ]
     },
     "metadata": {},
     "output_type": "display_data"
    }
   ],
   "source": [
    "# Display the confusion matrix\n",
    "disp = ConfusionMatrixDisplay(confusion_matrix=cm, display_labels=class_names)\n",
    "disp.plot(cmap=plt.cm.Blues)\n",
    "plt.title('Confusion Matrix')\n",
    "plt.show()"
   ]
  },
  {
   "cell_type": "code",
   "execution_count": null,
   "id": "b3cd3757",
   "metadata": {
    "scrolled": true
   },
   "outputs": [],
   "source": [
    "import numpy as np\n",
    "import matplotlib.pyplot as plt\n",
    "from sklearn.metrics import confusion_matrix, ConfusionMatrixDisplay\n",
    "from keras.preprocessing.image import ImageDataGenerator\n",
    "\n",
    "# Evaluate model on validation data\n",
    "Y_pred = model.predict(validation_generator)\n",
    "y_pred = np.argmax(Y_pred, axis=1)\n",
    "\n",
    "# Get true labels\n",
    "y_true = validation_generator.classes\n",
    "\n",
    "# Get class names\n",
    "class_names = list(validation_generator.class_indices.keys())\n",
    "\n",
    "# Compute confusion matrix\n",
    "cm = confusion_matrix(y_true, y_pred)\n",
    "\n",
    "# Plot confusion matrix\n",
    "disp = ConfusionMatrixDisplay(confusion_matrix=cm, display_labels=class_names)\n",
    "disp.plot(cmap=plt.cm.Blues)\n",
    "plt.title('Confusion Matrix')\n",
    "plt.show()"
   ]
  },
  {
   "cell_type": "markdown",
   "id": "5bb20531",
   "metadata": {},
   "source": [
    "# Precision & Recall"
   ]
  },
  {
   "cell_type": "code",
   "execution_count": 27,
   "id": "283e398c",
   "metadata": {
    "scrolled": true
   },
   "outputs": [
    {
     "name": "stdout",
     "output_type": "stream",
     "text": [
      "47/47 [==============================] - 54s 1s/step\n",
      "Precision: 0.16251954146713152\n",
      "Recall: 0.1625\n",
      "              precision    recall  f1-score   support\n",
      "\n",
      "           A       0.16      0.16      0.16      1000\n",
      "           B       0.14      0.14      0.14      1000\n",
      "           C       0.17      0.17      0.17      1000\n",
      "         del       0.16      0.16      0.16      1000\n",
      "     nothing       0.16      0.16      0.16      1000\n",
      "       space       0.18      0.18      0.18      1000\n",
      "\n",
      "    accuracy                           0.16      6000\n",
      "   macro avg       0.16      0.16      0.16      6000\n",
      "weighted avg       0.16      0.16      0.16      6000\n",
      "\n"
     ]
    }
   ],
   "source": [
    "from sklearn.metrics import precision_score, recall_score, classification_report\n",
    "import numpy as np\n",
    "\n",
    "# Generate predictions on validation data\n",
    "validation_generator.reset()  # Reset the validation generator\n",
    "\n",
    "# Calculate steps for full validation set\n",
    "steps = np.ceil(validation_generator.samples / batch_size).astype(int)\n",
    "\n",
    "# Predict the classes for validation data\n",
    "y_pred = model.predict(validation_generator, steps=steps, verbose=1)\n",
    "\n",
    "# Convert predictions to class labels\n",
    "y_pred_classes = np.argmax(y_pred, axis=1)\n",
    "\n",
    "# Get true labels\n",
    "y_true = validation_generator.classes[:len(y_pred_classes)]  # Slice true labels to match predicted labels\n",
    "\n",
    "# Calculate precision and recall\n",
    "precision = precision_score(y_true, y_pred_classes, average='macro')  # 'macro' to average precision over all classes\n",
    "recall = recall_score(y_true, y_pred_classes, average='macro')        # 'macro' to average recall over all classes\n",
    "\n",
    "# Print precision and recall\n",
    "print(f\"Precision: {precision}\")\n",
    "print(f\"Recall: {recall}\")\n",
    "\n",
    "# Optional: Detailed classification report for each class\n",
    "report = classification_report(y_true, y_pred_classes, target_names=class_names)\n",
    "print(report)\n"
   ]
  },
  {
   "cell_type": "code",
   "execution_count": 20,
   "id": "4f4f748c",
   "metadata": {
    "scrolled": false
   },
   "outputs": [
    {
     "name": "stdout",
     "output_type": "stream",
     "text": [
      "Requirement already satisfied: scikit-learn in c:\\users\\arjun\\anaconda3\\envs\\attendence4\\lib\\site-packages (1.0.2)\n",
      "Requirement already satisfied: seaborn in c:\\users\\arjun\\anaconda3\\envs\\attendence4\\lib\\site-packages (0.12.2)\n",
      "Requirement already satisfied: joblib>=0.11 in c:\\users\\arjun\\anaconda3\\envs\\attendence4\\lib\\site-packages (from scikit-learn) (1.3.2)\n",
      "Requirement already satisfied: numpy>=1.14.6 in c:\\users\\arjun\\anaconda3\\envs\\attendence4\\lib\\site-packages (from scikit-learn) (1.21.6)\n",
      "Requirement already satisfied: scipy>=1.1.0 in c:\\users\\arjun\\anaconda3\\envs\\attendence4\\lib\\site-packages (from scikit-learn) (1.4.1)\n",
      "Requirement already satisfied: threadpoolctl>=2.0.0 in c:\\users\\arjun\\anaconda3\\envs\\attendence4\\lib\\site-packages (from scikit-learn) (3.1.0)\n",
      "Requirement already satisfied: pandas>=0.25 in c:\\users\\arjun\\anaconda3\\envs\\attendence4\\lib\\site-packages (from seaborn) (1.3.5)\n",
      "Requirement already satisfied: matplotlib!=3.6.1,>=3.1 in c:\\users\\arjun\\anaconda3\\envs\\attendence4\\lib\\site-packages (from seaborn) (3.5.3)\n",
      "Requirement already satisfied: typing_extensions in c:\\users\\arjun\\anaconda3\\envs\\attendence4\\lib\\site-packages (from seaborn) (4.7.1)\n",
      "Requirement already satisfied: kiwisolver>=1.0.1 in c:\\users\\arjun\\anaconda3\\envs\\attendence4\\lib\\site-packages (from matplotlib!=3.6.1,>=3.1->seaborn) (1.4.5)\n",
      "Requirement already satisfied: pillow>=6.2.0 in c:\\users\\arjun\\anaconda3\\envs\\attendence4\\lib\\site-packages (from matplotlib!=3.6.1,>=3.1->seaborn) (9.5.0)\n",
      "Requirement already satisfied: python-dateutil>=2.7 in c:\\users\\arjun\\anaconda3\\envs\\attendence4\\lib\\site-packages (from matplotlib!=3.6.1,>=3.1->seaborn) (2.9.0.post0)\n",
      "Requirement already satisfied: pyparsing>=2.2.1 in c:\\users\\arjun\\anaconda3\\envs\\attendence4\\lib\\site-packages (from matplotlib!=3.6.1,>=3.1->seaborn) (3.1.4)\n",
      "Requirement already satisfied: packaging>=20.0 in c:\\users\\arjun\\anaconda3\\envs\\attendence4\\lib\\site-packages (from matplotlib!=3.6.1,>=3.1->seaborn) (24.0)\n",
      "Requirement already satisfied: cycler>=0.10 in c:\\users\\arjun\\anaconda3\\envs\\attendence4\\lib\\site-packages (from matplotlib!=3.6.1,>=3.1->seaborn) (0.11.0)\n",
      "Requirement already satisfied: fonttools>=4.22.0 in c:\\users\\arjun\\anaconda3\\envs\\attendence4\\lib\\site-packages (from matplotlib!=3.6.1,>=3.1->seaborn) (4.38.0)\n",
      "Requirement already satisfied: pytz>=2017.3 in c:\\users\\arjun\\anaconda3\\envs\\attendence4\\lib\\site-packages (from pandas>=0.25->seaborn) (2024.1)\n",
      "Requirement already satisfied: six>=1.5 in c:\\users\\arjun\\anaconda3\\envs\\attendence4\\lib\\site-packages (from python-dateutil>=2.7->matplotlib!=3.6.1,>=3.1->seaborn) (1.16.0)\n",
      "Note: you may need to restart the kernel to use updated packages.\n"
     ]
    }
   ],
   "source": [
    "pip install scikit-learn seaborn"
   ]
  },
  {
   "cell_type": "code",
   "execution_count": null,
   "id": "63f6c6c6",
   "metadata": {},
   "outputs": [],
   "source": []
  },
  {
   "cell_type": "code",
   "execution_count": null,
   "id": "f1f39585",
   "metadata": {},
   "outputs": [],
   "source": [
    "from sklearn.metrics.pairwise import cosine_similarity\n",
    "\n",
    "def find_closest_face(embedding, known_encodings, known_labels):\n",
    "    # Calculate cosine similarities between the test embedding and all known embeddings\n",
    "    similarities = cosine_similarity([embedding], known_encodings)[0]\n",
    "    \n",
    "    # Get the label of the closest match\n",
    "    closest_idx = np.argmax(similarities)\n",
    "    return known_labels[closest_idx]\n",
    "\n",
    "# Predictions using cosine similarity\n",
    "y_pred = []\n",
    "for encoding in encodings:\n",
    "    predicted_label = find_closest_face(encoding, encodings, labels)\n",
    "    y_pred.append(predicted_label)\n",
    "\n",
    "# Convert labels to numeric format if needed\n",
    "unique_labels = list(set(labels))\n",
    "y_true = [unique_labels.index(label) for label in labels]\n",
    "y_pred = [unique_labels.index(label) for label in y_pred]"
   ]
  },
  {
   "cell_type": "code",
   "execution_count": null,
   "id": "2f25ef63",
   "metadata": {},
   "outputs": [],
   "source": []
  }
 ],
 "metadata": {
  "kernelspec": {
   "display_name": "Python 3 (ipykernel)",
   "language": "python",
   "name": "python3"
  },
  "language_info": {
   "codemirror_mode": {
    "name": "ipython",
    "version": 3
   },
   "file_extension": ".py",
   "mimetype": "text/x-python",
   "name": "python",
   "nbconvert_exporter": "python",
   "pygments_lexer": "ipython3",
   "version": "3.7.16"
  }
 },
 "nbformat": 4,
 "nbformat_minor": 5
}
